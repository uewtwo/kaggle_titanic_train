{
 "cells": [
  {
   "cell_type": "code",
   "execution_count": 101,
   "metadata": {},
   "outputs": [],
   "source": [
    "import pandas as pd\n",
    "import numpy as np\n",
    "import seaborn as sns\n",
    "import matplotlib.pyplot as plt\n",
    "%matplotlib inline"
   ]
  },
  {
   "cell_type": "code",
   "execution_count": 102,
   "metadata": {
    "scrolled": false
   },
   "outputs": [
    {
     "data": {
      "text/html": [
       "<div>\n",
       "<style scoped>\n",
       "    .dataframe tbody tr th:only-of-type {\n",
       "        vertical-align: middle;\n",
       "    }\n",
       "\n",
       "    .dataframe tbody tr th {\n",
       "        vertical-align: top;\n",
       "    }\n",
       "\n",
       "    .dataframe thead th {\n",
       "        text-align: right;\n",
       "    }\n",
       "</style>\n",
       "<table border=\"1\" class=\"dataframe\">\n",
       "  <thead>\n",
       "    <tr style=\"text-align: right;\">\n",
       "      <th></th>\n",
       "      <th>PassengerId</th>\n",
       "      <th>Survived</th>\n",
       "      <th>Pclass</th>\n",
       "      <th>Name</th>\n",
       "      <th>Sex</th>\n",
       "      <th>Age</th>\n",
       "      <th>SibSp</th>\n",
       "      <th>Parch</th>\n",
       "      <th>Ticket</th>\n",
       "      <th>Fare</th>\n",
       "      <th>Cabin</th>\n",
       "      <th>Embarked</th>\n",
       "    </tr>\n",
       "  </thead>\n",
       "  <tbody>\n",
       "    <tr>\n",
       "      <th>0</th>\n",
       "      <td>1</td>\n",
       "      <td>0</td>\n",
       "      <td>3</td>\n",
       "      <td>Braund, Mr. Owen Harris</td>\n",
       "      <td>male</td>\n",
       "      <td>22.0</td>\n",
       "      <td>1</td>\n",
       "      <td>0</td>\n",
       "      <td>A/5 21171</td>\n",
       "      <td>7.2500</td>\n",
       "      <td>NaN</td>\n",
       "      <td>S</td>\n",
       "    </tr>\n",
       "    <tr>\n",
       "      <th>1</th>\n",
       "      <td>2</td>\n",
       "      <td>1</td>\n",
       "      <td>1</td>\n",
       "      <td>Cumings, Mrs. John Bradley (Florence Briggs Th...</td>\n",
       "      <td>female</td>\n",
       "      <td>38.0</td>\n",
       "      <td>1</td>\n",
       "      <td>0</td>\n",
       "      <td>PC 17599</td>\n",
       "      <td>71.2833</td>\n",
       "      <td>C85</td>\n",
       "      <td>C</td>\n",
       "    </tr>\n",
       "    <tr>\n",
       "      <th>2</th>\n",
       "      <td>3</td>\n",
       "      <td>1</td>\n",
       "      <td>3</td>\n",
       "      <td>Heikkinen, Miss. Laina</td>\n",
       "      <td>female</td>\n",
       "      <td>26.0</td>\n",
       "      <td>0</td>\n",
       "      <td>0</td>\n",
       "      <td>STON/O2. 3101282</td>\n",
       "      <td>7.9250</td>\n",
       "      <td>NaN</td>\n",
       "      <td>S</td>\n",
       "    </tr>\n",
       "    <tr>\n",
       "      <th>3</th>\n",
       "      <td>4</td>\n",
       "      <td>1</td>\n",
       "      <td>1</td>\n",
       "      <td>Futrelle, Mrs. Jacques Heath (Lily May Peel)</td>\n",
       "      <td>female</td>\n",
       "      <td>35.0</td>\n",
       "      <td>1</td>\n",
       "      <td>0</td>\n",
       "      <td>113803</td>\n",
       "      <td>53.1000</td>\n",
       "      <td>C123</td>\n",
       "      <td>S</td>\n",
       "    </tr>\n",
       "    <tr>\n",
       "      <th>4</th>\n",
       "      <td>5</td>\n",
       "      <td>0</td>\n",
       "      <td>3</td>\n",
       "      <td>Allen, Mr. William Henry</td>\n",
       "      <td>male</td>\n",
       "      <td>35.0</td>\n",
       "      <td>0</td>\n",
       "      <td>0</td>\n",
       "      <td>373450</td>\n",
       "      <td>8.0500</td>\n",
       "      <td>NaN</td>\n",
       "      <td>S</td>\n",
       "    </tr>\n",
       "  </tbody>\n",
       "</table>\n",
       "</div>"
      ],
      "text/plain": [
       "   PassengerId  Survived  Pclass  \\\n",
       "0            1         0       3   \n",
       "1            2         1       1   \n",
       "2            3         1       3   \n",
       "3            4         1       1   \n",
       "4            5         0       3   \n",
       "\n",
       "                                                Name     Sex   Age  SibSp  \\\n",
       "0                            Braund, Mr. Owen Harris    male  22.0      1   \n",
       "1  Cumings, Mrs. John Bradley (Florence Briggs Th...  female  38.0      1   \n",
       "2                             Heikkinen, Miss. Laina  female  26.0      0   \n",
       "3       Futrelle, Mrs. Jacques Heath (Lily May Peel)  female  35.0      1   \n",
       "4                           Allen, Mr. William Henry    male  35.0      0   \n",
       "\n",
       "   Parch            Ticket     Fare Cabin Embarked  \n",
       "0      0         A/5 21171   7.2500   NaN        S  \n",
       "1      0          PC 17599  71.2833   C85        C  \n",
       "2      0  STON/O2. 3101282   7.9250   NaN        S  \n",
       "3      0            113803  53.1000  C123        S  \n",
       "4      0            373450   8.0500   NaN        S  "
      ]
     },
     "execution_count": 102,
     "metadata": {},
     "output_type": "execute_result"
    }
   ],
   "source": [
    "# データセット用意\n",
    "df = pd.read_csv(\"train.csv\")\n",
    "test = pd.read_csv(\"test.csv\")\n",
    "df.head()"
   ]
  },
  {
   "cell_type": "code",
   "execution_count": 103,
   "metadata": {},
   "outputs": [
    {
     "data": {
      "text/html": [
       "<div>\n",
       "<style scoped>\n",
       "    .dataframe tbody tr th:only-of-type {\n",
       "        vertical-align: middle;\n",
       "    }\n",
       "\n",
       "    .dataframe tbody tr th {\n",
       "        vertical-align: top;\n",
       "    }\n",
       "\n",
       "    .dataframe thead th {\n",
       "        text-align: right;\n",
       "    }\n",
       "</style>\n",
       "<table border=\"1\" class=\"dataframe\">\n",
       "  <thead>\n",
       "    <tr style=\"text-align: right;\">\n",
       "      <th></th>\n",
       "      <th>PassengerId</th>\n",
       "      <th>Survived</th>\n",
       "      <th>Pclass</th>\n",
       "      <th>Age</th>\n",
       "      <th>SibSp</th>\n",
       "      <th>Parch</th>\n",
       "      <th>Fare</th>\n",
       "    </tr>\n",
       "  </thead>\n",
       "  <tbody>\n",
       "    <tr>\n",
       "      <th>count</th>\n",
       "      <td>891.000000</td>\n",
       "      <td>891.000000</td>\n",
       "      <td>891.000000</td>\n",
       "      <td>714.000000</td>\n",
       "      <td>891.000000</td>\n",
       "      <td>891.000000</td>\n",
       "      <td>891.000000</td>\n",
       "    </tr>\n",
       "    <tr>\n",
       "      <th>mean</th>\n",
       "      <td>446.000000</td>\n",
       "      <td>0.383838</td>\n",
       "      <td>2.308642</td>\n",
       "      <td>29.699118</td>\n",
       "      <td>0.523008</td>\n",
       "      <td>0.381594</td>\n",
       "      <td>32.204208</td>\n",
       "    </tr>\n",
       "    <tr>\n",
       "      <th>std</th>\n",
       "      <td>257.353842</td>\n",
       "      <td>0.486592</td>\n",
       "      <td>0.836071</td>\n",
       "      <td>14.526497</td>\n",
       "      <td>1.102743</td>\n",
       "      <td>0.806057</td>\n",
       "      <td>49.693429</td>\n",
       "    </tr>\n",
       "    <tr>\n",
       "      <th>min</th>\n",
       "      <td>1.000000</td>\n",
       "      <td>0.000000</td>\n",
       "      <td>1.000000</td>\n",
       "      <td>0.420000</td>\n",
       "      <td>0.000000</td>\n",
       "      <td>0.000000</td>\n",
       "      <td>0.000000</td>\n",
       "    </tr>\n",
       "    <tr>\n",
       "      <th>25%</th>\n",
       "      <td>223.500000</td>\n",
       "      <td>0.000000</td>\n",
       "      <td>2.000000</td>\n",
       "      <td>20.125000</td>\n",
       "      <td>0.000000</td>\n",
       "      <td>0.000000</td>\n",
       "      <td>7.910400</td>\n",
       "    </tr>\n",
       "    <tr>\n",
       "      <th>50%</th>\n",
       "      <td>446.000000</td>\n",
       "      <td>0.000000</td>\n",
       "      <td>3.000000</td>\n",
       "      <td>28.000000</td>\n",
       "      <td>0.000000</td>\n",
       "      <td>0.000000</td>\n",
       "      <td>14.454200</td>\n",
       "    </tr>\n",
       "    <tr>\n",
       "      <th>75%</th>\n",
       "      <td>668.500000</td>\n",
       "      <td>1.000000</td>\n",
       "      <td>3.000000</td>\n",
       "      <td>38.000000</td>\n",
       "      <td>1.000000</td>\n",
       "      <td>0.000000</td>\n",
       "      <td>31.000000</td>\n",
       "    </tr>\n",
       "    <tr>\n",
       "      <th>max</th>\n",
       "      <td>891.000000</td>\n",
       "      <td>1.000000</td>\n",
       "      <td>3.000000</td>\n",
       "      <td>80.000000</td>\n",
       "      <td>8.000000</td>\n",
       "      <td>6.000000</td>\n",
       "      <td>512.329200</td>\n",
       "    </tr>\n",
       "  </tbody>\n",
       "</table>\n",
       "</div>"
      ],
      "text/plain": [
       "       PassengerId    Survived      Pclass         Age       SibSp  \\\n",
       "count   891.000000  891.000000  891.000000  714.000000  891.000000   \n",
       "mean    446.000000    0.383838    2.308642   29.699118    0.523008   \n",
       "std     257.353842    0.486592    0.836071   14.526497    1.102743   \n",
       "min       1.000000    0.000000    1.000000    0.420000    0.000000   \n",
       "25%     223.500000    0.000000    2.000000   20.125000    0.000000   \n",
       "50%     446.000000    0.000000    3.000000   28.000000    0.000000   \n",
       "75%     668.500000    1.000000    3.000000   38.000000    1.000000   \n",
       "max     891.000000    1.000000    3.000000   80.000000    8.000000   \n",
       "\n",
       "            Parch        Fare  \n",
       "count  891.000000  891.000000  \n",
       "mean     0.381594   32.204208  \n",
       "std      0.806057   49.693429  \n",
       "min      0.000000    0.000000  \n",
       "25%      0.000000    7.910400  \n",
       "50%      0.000000   14.454200  \n",
       "75%      0.000000   31.000000  \n",
       "max      6.000000  512.329200  "
      ]
     },
     "execution_count": 103,
     "metadata": {},
     "output_type": "execute_result"
    }
   ],
   "source": [
    "#　概要確認\n",
    "df.describe()"
   ]
  },
  {
   "cell_type": "code",
   "execution_count": 104,
   "metadata": {},
   "outputs": [
    {
     "name": "stdout",
     "output_type": "stream",
     "text": [
      "Age         177\n",
      "Cabin       687\n",
      "Embarked      2\n",
      "dtype: int64\n",
      "Age       86\n",
      "Fare       1\n",
      "Cabin    327\n",
      "dtype: int64\n"
     ]
    }
   ],
   "source": [
    "# 欠損値確認\n",
    "a = df.isnull().sum()\n",
    "b = test.isnull().sum()\n",
    "\n",
    "print(a[a > 0]); print(b[b > 0])\n"
   ]
  },
  {
   "cell_type": "code",
   "execution_count": 105,
   "metadata": {},
   "outputs": [
    {
     "data": {
      "text/plain": [
       "<matplotlib.axes._subplots.AxesSubplot at 0x1a36ddafd0>"
      ]
     },
     "execution_count": 105,
     "metadata": {},
     "output_type": "execute_result"
    },
    {
     "data": {
      "image/png": "[encoded data removed]",
      "text/plain": [
       "<Figure size 432x288 with 1 Axes>"
      ]
     },
     "metadata": {
      "needs_background": "light"
     },
     "output_type": "display_data"
    }
   ],
   "source": [
    "# おまけ、綺麗に描画される話\n",
    "sns.barplot(x=\"Pclass\", y=\"Survived\", hue=\"Sex\", data=df)"
   ]
  },
  {
   "cell_type": "code",
   "execution_count": 106,
   "metadata": {},
   "outputs": [
    {
     "data": {
      "text/plain": [
       "<matplotlib.axes._subplots.AxesSubplot at 0x1a36111630>"
      ]
     },
     "execution_count": 106,
     "metadata": {},
     "output_type": "execute_result"
    },
    {
     "data": {
      "image/png": "[encoded data removed]",
      "text/plain": [
       "<Figure size 432x288 with 1 Axes>"
      ]
     },
     "metadata": {
      "needs_background": "light"
     },
     "output_type": "display_data"
    }
   ],
   "source": [
    "sns.violinplot(x=\"Embarked\", y=\"Fare\", data=df)"
   ]
  },
  {
   "cell_type": "code",
   "execution_count": 107,
   "metadata": {
    "scrolled": true
   },
   "outputs": [
    {
     "data": {
      "text/plain": [
       "<matplotlib.axes._subplots.AxesSubplot at 0x1a36fc1630>"
      ]
     },
     "execution_count": 107,
     "metadata": {},
     "output_type": "execute_result"
    },
    {
     "data": {
      "image/png": "[encoded data removed]",
      "text/plain": [
       "<Figure size 432x288 with 1 Axes>"
      ]
     },
     "metadata": {
      "needs_background": "light"
     },
     "output_type": "display_data"
    }
   ],
   "source": [
    "# Cabin の欠損値調査\n",
    "df[\"_Cabin\"] = df[\"Cabin\"].isnull()\n",
    "sns.countplot(\"_Cabin\", data=df, hue=\"Survived\")"
   ]
  },
  {
   "cell_type": "code",
   "execution_count": 108,
   "metadata": {
    "scrolled": false
   },
   "outputs": [
    {
     "data": {
      "text/plain": [
       "<matplotlib.axes._subplots.AxesSubplot at 0x1a30a11be0>"
      ]
     },
     "execution_count": 108,
     "metadata": {},
     "output_type": "execute_result"
    },
    {
     "data": {
      "image/png": "[encoded data removed]",
      "text/plain": [
       "<Figure size 432x288 with 1 Axes>"
      ]
     },
     "metadata": {
      "needs_background": "light"
     },
     "output_type": "display_data"
    }
   ],
   "source": [
    "# Cabin の前2文字を使用\n",
    "df[\"_Cabin\"] = df.Cabin.fillna(\"@\")\n",
    "test[\"_Cabin\"] = test.Cabin.fillna(\"@\")\n",
    "\n",
    "df[\"FCabin\"] = df._Cabin.str[:1]\n",
    "test[\"FCabin\"] = test._Cabin.str[:1]\n",
    "\n",
    "# Embarked は最頻値で埋める\n",
    "df[\"Embarked\"] = df.Embarked.fillna(\"S\")\n",
    "\n",
    "# Fare　は中央値で埋める\n",
    "test[\"Fare\"] = df.Fare.fillna(df.Fare.median())\n",
    "\n",
    "df = df.drop(columns=\"_Cabin\")\n",
    "test = test.drop(columns=\"_Cabin\")\n",
    "\n",
    "# Cabin 処理後、対数表示してみる\n",
    "a = df.groupby([\"FCabin\", \"Survived\"], as_index=False).count()\n",
    "a[\"_Pass\"] = np.log(a[\"PassengerId\"])\n",
    "sns.barplot(x=\"FCabin\", y=\"_Pass\", data=a, hue=\"Survived\")"
   ]
  },
  {
   "cell_type": "code",
   "execution_count": 109,
   "metadata": {
    "scrolled": false
   },
   "outputs": [
    {
     "name": "stdout",
     "output_type": "stream",
     "text": [
      "          count\n",
      "Honor          \n",
      "Capt          1\n",
      "Col           2\n",
      "Countess      1\n",
      "Don           1\n",
      "Dr            7\n",
      "Jonkheer      1\n",
      "Lady          1\n",
      "Major         2\n",
      "Master       40\n",
      "Miss        182\n",
      "Mlle          2\n",
      "Mme           1\n",
      "Mr          517\n",
      "Mrs         125\n",
      "Ms            1\n",
      "Rev           6\n",
      "Sir           1\n"
     ]
    }
   ],
   "source": [
    "# 敬称取り出して確認\n",
    "a = df.Name.str.extract('(?P<Honor>[A-Za-z]+)\\.')\n",
    "a[\"count\"] = 1\n",
    "print(a.groupby(\"Honor\").count())"
   ]
  },
  {
   "cell_type": "code",
   "execution_count": 110,
   "metadata": {},
   "outputs": [
    {
     "data": {
      "text/plain": [
       "[Text(0, 0, 'Mr'),\n",
       " Text(0, 0, 'Mrs'),\n",
       " Text(0, 0, 'Miss'),\n",
       " Text(0, 0, 'Master'),\n",
       " Text(0, 0, 'Don'),\n",
       " Text(0, 0, 'Rev'),\n",
       " Text(0, 0, 'Dr'),\n",
       " Text(0, 0, 'Major'),\n",
       " Text(0, 0, 'Lady'),\n",
       " Text(0, 0, 'Sir'),\n",
       " Text(0, 0, 'Col'),\n",
       " Text(0, 0, 'Capt'),\n",
       " Text(0, 0, 'Countess'),\n",
       " Text(0, 0, 'Jonkheer')]"
      ]
     },
     "execution_count": 110,
     "metadata": {},
     "output_type": "execute_result"
    },
    {
     "data": {
      "image/png": "[encoded data removed]",
      "text/plain": [
       "<Figure size 432x288 with 1 Axes>"
      ]
     },
     "metadata": {
      "needs_background": "light"
     },
     "output_type": "display_data"
    }
   ],
   "source": [
    "# 敬称取り出し\n",
    "df[\"Honor\"] = df.Name.str.extract('(?P<Honor>[A-Za-z]+)\\.')\n",
    "test[\"Honor\"] = test.Name.str.extract('(?P<Honor>[A-Za-z]+)\\.')\n",
    "\n",
    "# 簡易なものをまとめる\n",
    "df['Honor'].replace('Mlle', 'Miss',inplace=True)\n",
    "df['Honor'].replace('Ms', 'Miss',inplace=True)\n",
    "df['Honor'].replace('Mme', 'Mrs',inplace=True)\n",
    "\n",
    "test['Honor'].replace('Mlle', 'Miss',inplace=True)\n",
    "test['Honor'].replace('Ms', 'Miss',inplace=True)\n",
    "test['Honor'].replace('Mme', 'Mrs',inplace=True)\n",
    "\n",
    "# データ確認してみる\n",
    "ax = sns.countplot(\"Honor\", data=df, hue=\"Survived\")\n",
    "ax.set_xticklabels(ax.get_xticklabels(), rotation=\"vertical\")"
   ]
  },
  {
   "cell_type": "code",
   "execution_count": 111,
   "metadata": {},
   "outputs": [
    {
     "name": "stdout",
     "output_type": "stream",
     "text": [
      "Adult:  31.033185840707965 Child:  3.5\n"
     ]
    }
   ],
   "source": [
    "# Master かそうでないかで Age の穴埋め方針を変える\n",
    "df[\"IsChild\"] = df[\"Honor\"] == 'Master'\n",
    "test[\"IsChild\"] = test[\"Honor\"] == 'Master'\n",
    "\n",
    "x = df[df[\"IsChild\"] == False][\"Age\"].mean()\n",
    "y = df[df[\"IsChild\"] == True][\"Age\"].median()\n",
    "print(\"Adult: \", x, \"Child: \", y)"
   ]
  },
  {
   "cell_type": "code",
   "execution_count": 112,
   "metadata": {
    "scrolled": false
   },
   "outputs": [],
   "source": [
    "# 欠損値補完\n",
    "df[\"FAge\"] = df[\"Age\"]\n",
    "test[\"FAge\"] = test[\"Age\"]\n",
    "\n",
    "df.loc[(df[\"FAge\"].isnull() & (df[\"IsChild\"] == False)), \"FAge\"] = 29\n",
    "test.loc[(test[\"FAge\"].isnull() & (test[\"IsChild\"] == False)), \"FAge\"] = 29\n",
    "\n",
    "df.loc[(df[\"FAge\"].isnull() & (df[\"IsChild\"] == True)), \"FAge\"] = 3.5\n",
    "test.loc[(test[\"FAge\"].isnull() & (test[\"IsChild\"] == True)), \"FAge\"] = 3.5"
   ]
  },
  {
   "cell_type": "code",
   "execution_count": 113,
   "metadata": {},
   "outputs": [],
   "source": [
    "# Fareを10分割した特徴量を作成\n",
    "for dfs in [df, test]:\n",
    "    dfs.loc[dfs['Fare'] <= 51, 'Fare_grade'] = 0\n",
    "    dfs.loc[(dfs['Fare'] > 51) & (dfs['Fare'] <= 102), 'Fare_grade'] = 1\n",
    "    dfs.loc[(dfs['Fare'] > 102) & (dfs['Fare'] <= 153), 'Fare_grade']   = 2\n",
    "    dfs.loc[(dfs['Fare'] > 153) & (dfs['Fare'] <= 204), 'Fare_grade']   = 3\n",
    "    dfs.loc[(dfs['Fare'] > 204) & (dfs['Fare'] <= 256), 'Fare_grade']   = 4\n",
    "    dfs.loc[(dfs['Fare'] > 256) & (dfs['Fare'] <= 307), 'Fare_grade']   = 5\n",
    "    dfs.loc[(dfs['Fare'] > 307) & (dfs['Fare'] <= 358), 'Fare_grade']   = 6\n",
    "    dfs.loc[(dfs['Fare'] > 358) & (dfs['Fare'] <= 409), 'Fare_grade']   = 7\n",
    "    dfs.loc[(dfs['Fare'] > 409) & (dfs['Fare'] <= 461), 'Fare_grade']   = 8\n",
    "    dfs.loc[ dfs['Fare'] > 461, 'Fare_grade'] = 9\n",
    "    dfs['Fare_grade'] = dfs['Fare_grade'].astype(int)\n"
   ]
  },
  {
   "cell_type": "code",
   "execution_count": 114,
   "metadata": {},
   "outputs": [],
   "source": [
    "# Ageについても１０分割した特徴量を作成\n",
    "for dfs in [df, test]:\n",
    "    dfs.loc[ dfs['FAge'] <= 8, 'Age_grade'] = 0\n",
    "    dfs.loc[(dfs['FAge'] > 8) & (dfs['FAge'] <= 16), 'Age_grade'] = 1\n",
    "    dfs.loc[(dfs['FAge'] > 16) & (dfs['FAge'] <= 24), 'Age_grade'] = 2\n",
    "    dfs.loc[(dfs['FAge'] > 24) & (dfs['FAge'] <= 32), 'Age_grade'] = 3\n",
    "    dfs.loc[(dfs['FAge'] > 32) & (dfs['FAge'] <= 40), 'Age_grade'] = 4\n",
    "    dfs.loc[(dfs['FAge'] > 40) & (dfs['FAge'] <= 48), 'Age_grade'] = 5\n",
    "    dfs.loc[(dfs['FAge'] > 48) & (dfs['FAge'] <= 56), 'Age_grade'] = 6\n",
    "    dfs.loc[(dfs['FAge'] > 56) & (dfs['FAge'] <= 64), 'Age_grade'] = 7\n",
    "    dfs.loc[(dfs['FAge'] > 64) & (dfs['FAge'] <= 72), 'Age_grade'] = 8\n",
    "    dfs.loc[(dfs['FAge'] > 72) & (dfs['FAge'] <= 80), 'Age_grade'] = 9\n",
    "    dfs['Age_grade'] = dfs['Age_grade'].astype(int)\n"
   ]
  },
  {
   "cell_type": "code",
   "execution_count": 115,
   "metadata": {},
   "outputs": [
    {
     "data": {
      "text/plain": [
       "[Text(0, 0, 'A'),\n",
       " Text(0, 0, 'P'),\n",
       " Text(0, 0, 'S'),\n",
       " Text(0, 0, '1'),\n",
       " Text(0, 0, '3'),\n",
       " Text(0, 0, '2'),\n",
       " Text(0, 0, 'C'),\n",
       " Text(0, 0, '7'),\n",
       " Text(0, 0, 'W'),\n",
       " Text(0, 0, '4'),\n",
       " Text(0, 0, 'F'),\n",
       " Text(0, 0, 'L'),\n",
       " Text(0, 0, '9'),\n",
       " Text(0, 0, '6'),\n",
       " Text(0, 0, '5'),\n",
       " Text(0, 0, '8')]"
      ]
     },
     "execution_count": 115,
     "metadata": {},
     "output_type": "execute_result"
    },
    {
     "data": {
      "image/png": "[encoded data removed]",
      "text/plain": [
       "<Figure size 432x288 with 1 Axes>"
      ]
     },
     "metadata": {
      "needs_background": "light"
     },
     "output_type": "display_data"
    }
   ],
   "source": [
    "# Ticket 前2文字切り取り\n",
    "df[\"FTicket\"] = df[\"Ticket\"].str[:1]\n",
    "test[\"FTicket\"] = test[\"Ticket\"].str[:1]\n",
    "\n",
    "ax = sns.countplot(\"FTicket\", data=df, hue=\"Survived\")\n",
    "ax.set_xticklabels(ax.get_xticklabels(), rotation=\"vertical\")"
   ]
  },
  {
   "cell_type": "code",
   "execution_count": 116,
   "metadata": {},
   "outputs": [],
   "source": [
    "# 試行錯誤のため、別変数に書き出す\n",
    "_df = df\n",
    "_test = test\n",
    "\n",
    "# おまじない\n",
    "_df[\"Family\"] = _df[\"SibSp\"] + _df[\"Parch\"]\n",
    "_test[\"Family\"] = _test[\"SibSp\"] + _test[\"Parch\"]\n",
    "\n",
    "# Label Encoding\n",
    "from sklearn import preprocessing\n",
    "\n",
    "for dfs in [_df, _test]:\n",
    "    for column in [\"Honor\", \"FTicket\", \"FCabin\"]:\n",
    "        le = preprocessing.LabelEncoder()\n",
    "        le.fit(dfs[column])\n",
    "        dfs[column] = le.transform(dfs[column])\n",
    "\n",
    "# OneHot Encoding の準備\n",
    "_df[\"Pclass\"] = _df.Pclass.astype(\"category\")\n",
    "_test[\"Pclass\"] = _df.Pclass.astype(\"category\")\n",
    "\n",
    "# 不要なカラムの整理\n",
    "_df = _df.drop(columns=[\"PassengerId\", \"Name\", \"Ticket\", \"Age\", \"FAge\", \"Cabin\", \"Fare\"])\n",
    "_test = _test.drop(columns=[\"PassengerId\", \"Name\", \"Ticket\", \"Age\", \"FAge\", \"Cabin\", \"Fare\"])"
   ]
  },
  {
   "cell_type": "code",
   "execution_count": 117,
   "metadata": {
    "scrolled": false
   },
   "outputs": [],
   "source": [
    "#a = sns.pairplot(_df, hue=\"Survived\", diag_kind=\"hist\")"
   ]
  },
  {
   "cell_type": "code",
   "execution_count": 118,
   "metadata": {},
   "outputs": [],
   "source": [
    "#a.savefig(\"pairplot.png\")"
   ]
  },
  {
   "cell_type": "code",
   "execution_count": 119,
   "metadata": {
    "scrolled": false
   },
   "outputs": [
    {
     "data": {
      "text/html": [
       "<div>\n",
       "<style scoped>\n",
       "    .dataframe tbody tr th:only-of-type {\n",
       "        vertical-align: middle;\n",
       "    }\n",
       "\n",
       "    .dataframe tbody tr th {\n",
       "        vertical-align: top;\n",
       "    }\n",
       "\n",
       "    .dataframe thead th {\n",
       "        text-align: right;\n",
       "    }\n",
       "</style>\n",
       "<table border=\"1\" class=\"dataframe\">\n",
       "  <thead>\n",
       "    <tr style=\"text-align: right;\">\n",
       "      <th></th>\n",
       "      <th>Survived</th>\n",
       "      <th>SibSp</th>\n",
       "      <th>Parch</th>\n",
       "      <th>FCabin</th>\n",
       "      <th>Honor</th>\n",
       "      <th>IsChild</th>\n",
       "      <th>Fare_grade</th>\n",
       "      <th>Age_grade</th>\n",
       "      <th>FTicket</th>\n",
       "      <th>Family</th>\n",
       "      <th>Pclass_1</th>\n",
       "      <th>Pclass_2</th>\n",
       "      <th>Pclass_3</th>\n",
       "      <th>Sex_female</th>\n",
       "      <th>Sex_male</th>\n",
       "      <th>Embarked_C</th>\n",
       "      <th>Embarked_Q</th>\n",
       "      <th>Embarked_S</th>\n",
       "    </tr>\n",
       "  </thead>\n",
       "  <tbody>\n",
       "    <tr>\n",
       "      <th>Survived</th>\n",
       "      <td>1.000000</td>\n",
       "      <td>-0.035322</td>\n",
       "      <td>0.081629</td>\n",
       "      <td>0.287944</td>\n",
       "      <td>-0.059374</td>\n",
       "      <td>0.085221</td>\n",
       "      <td>0.232892</td>\n",
       "      <td>-0.070315</td>\n",
       "      <td>-0.036178</td>\n",
       "      <td>0.016639</td>\n",
       "      <td>0.285904</td>\n",
       "      <td>0.093349</td>\n",
       "      <td>-0.322308</td>\n",
       "      <td>0.543351</td>\n",
       "      <td>-0.543351</td>\n",
       "      <td>0.168240</td>\n",
       "      <td>0.003650</td>\n",
       "      <td>-0.149683</td>\n",
       "    </tr>\n",
       "    <tr>\n",
       "      <th>SibSp</th>\n",
       "      <td>-0.035322</td>\n",
       "      <td>1.000000</td>\n",
       "      <td>0.414838</td>\n",
       "      <td>-0.031973</td>\n",
       "      <td>-0.128959</td>\n",
       "      <td>0.349559</td>\n",
       "      <td>0.097544</td>\n",
       "      <td>-0.245453</td>\n",
       "      <td>0.049331</td>\n",
       "      <td>0.890712</td>\n",
       "      <td>-0.054582</td>\n",
       "      <td>-0.055932</td>\n",
       "      <td>0.092548</td>\n",
       "      <td>0.114631</td>\n",
       "      <td>-0.114631</td>\n",
       "      <td>-0.059528</td>\n",
       "      <td>-0.026354</td>\n",
       "      <td>0.068734</td>\n",
       "    </tr>\n",
       "    <tr>\n",
       "      <th>Parch</th>\n",
       "      <td>0.081629</td>\n",
       "      <td>0.414838</td>\n",
       "      <td>1.000000</td>\n",
       "      <td>0.037621</td>\n",
       "      <td>-0.035228</td>\n",
       "      <td>0.267344</td>\n",
       "      <td>0.146110</td>\n",
       "      <td>-0.177641</td>\n",
       "      <td>0.015628</td>\n",
       "      <td>0.783111</td>\n",
       "      <td>-0.017633</td>\n",
       "      <td>-0.000734</td>\n",
       "      <td>0.015790</td>\n",
       "      <td>0.245489</td>\n",
       "      <td>-0.245489</td>\n",
       "      <td>-0.011069</td>\n",
       "      <td>-0.081228</td>\n",
       "      <td>0.060814</td>\n",
       "    </tr>\n",
       "    <tr>\n",
       "      <th>FCabin</th>\n",
       "      <td>0.287944</td>\n",
       "      <td>-0.031973</td>\n",
       "      <td>0.037621</td>\n",
       "      <td>1.000000</td>\n",
       "      <td>-0.006902</td>\n",
       "      <td>-0.007043</td>\n",
       "      <td>0.314194</td>\n",
       "      <td>0.176709</td>\n",
       "      <td>-0.040996</td>\n",
       "      <td>-0.003057</td>\n",
       "      <td>0.604888</td>\n",
       "      <td>-0.102715</td>\n",
       "      <td>-0.437580</td>\n",
       "      <td>0.143517</td>\n",
       "      <td>-0.143517</td>\n",
       "      <td>0.120044</td>\n",
       "      <td>-0.107526</td>\n",
       "      <td>-0.037498</td>\n",
       "    </tr>\n",
       "    <tr>\n",
       "      <th>Honor</th>\n",
       "      <td>-0.059374</td>\n",
       "      <td>-0.128959</td>\n",
       "      <td>-0.035228</td>\n",
       "      <td>-0.006902</td>\n",
       "      <td>1.000000</td>\n",
       "      <td>-0.336084</td>\n",
       "      <td>-0.008823</td>\n",
       "      <td>0.175579</td>\n",
       "      <td>0.023040</td>\n",
       "      <td>-0.105739</td>\n",
       "      <td>-0.096810</td>\n",
       "      <td>0.084205</td>\n",
       "      <td>0.014881</td>\n",
       "      <td>0.004042</td>\n",
       "      <td>-0.004042</td>\n",
       "      <td>-0.012119</td>\n",
       "      <td>-0.080177</td>\n",
       "      <td>0.061072</td>\n",
       "    </tr>\n",
       "    <tr>\n",
       "      <th>IsChild</th>\n",
       "      <td>0.085221</td>\n",
       "      <td>0.349559</td>\n",
       "      <td>0.267344</td>\n",
       "      <td>-0.007043</td>\n",
       "      <td>-0.336084</td>\n",
       "      <td>1.000000</td>\n",
       "      <td>-0.038405</td>\n",
       "      <td>-0.388802</td>\n",
       "      <td>-0.028468</td>\n",
       "      <td>0.372472</td>\n",
       "      <td>-0.084700</td>\n",
       "      <td>0.009903</td>\n",
       "      <td>0.064918</td>\n",
       "      <td>-0.159934</td>\n",
       "      <td>0.159934</td>\n",
       "      <td>-0.035225</td>\n",
       "      <td>0.010478</td>\n",
       "      <td>0.024264</td>\n",
       "    </tr>\n",
       "    <tr>\n",
       "      <th>Fare_grade</th>\n",
       "      <td>0.232892</td>\n",
       "      <td>0.097544</td>\n",
       "      <td>0.146110</td>\n",
       "      <td>0.314194</td>\n",
       "      <td>-0.008823</td>\n",
       "      <td>-0.038405</td>\n",
       "      <td>1.000000</td>\n",
       "      <td>0.099532</td>\n",
       "      <td>0.137205</td>\n",
       "      <td>0.139662</td>\n",
       "      <td>0.542948</td>\n",
       "      <td>-0.152820</td>\n",
       "      <td>-0.343433</td>\n",
       "      <td>0.154203</td>\n",
       "      <td>-0.154203</td>\n",
       "      <td>0.246540</td>\n",
       "      <td>-0.096192</td>\n",
       "      <td>-0.155445</td>\n",
       "    </tr>\n",
       "    <tr>\n",
       "      <th>Age_grade</th>\n",
       "      <td>-0.070315</td>\n",
       "      <td>-0.245453</td>\n",
       "      <td>-0.177641</td>\n",
       "      <td>0.176709</td>\n",
       "      <td>0.175579</td>\n",
       "      <td>-0.388802</td>\n",
       "      <td>0.099532</td>\n",
       "      <td>1.000000</td>\n",
       "      <td>0.002071</td>\n",
       "      <td>-0.256505</td>\n",
       "      <td>0.315776</td>\n",
       "      <td>0.021708</td>\n",
       "      <td>-0.289742</td>\n",
       "      <td>-0.081354</td>\n",
       "      <td>0.081354</td>\n",
       "      <td>0.023965</td>\n",
       "      <td>-0.029239</td>\n",
       "      <td>-0.002594</td>\n",
       "    </tr>\n",
       "    <tr>\n",
       "      <th>FTicket</th>\n",
       "      <td>-0.036178</td>\n",
       "      <td>0.049331</td>\n",
       "      <td>0.015628</td>\n",
       "      <td>-0.040996</td>\n",
       "      <td>0.023040</td>\n",
       "      <td>-0.028468</td>\n",
       "      <td>0.137205</td>\n",
       "      <td>0.002071</td>\n",
       "      <td>1.000000</td>\n",
       "      <td>0.041523</td>\n",
       "      <td>-0.012994</td>\n",
       "      <td>0.034277</td>\n",
       "      <td>-0.016701</td>\n",
       "      <td>-0.031341</td>\n",
       "      <td>0.031341</td>\n",
       "      <td>0.108996</td>\n",
       "      <td>-0.138848</td>\n",
       "      <td>-0.008108</td>\n",
       "    </tr>\n",
       "    <tr>\n",
       "      <th>Family</th>\n",
       "      <td>0.016639</td>\n",
       "      <td>0.890712</td>\n",
       "      <td>0.783111</td>\n",
       "      <td>-0.003057</td>\n",
       "      <td>-0.105739</td>\n",
       "      <td>0.372472</td>\n",
       "      <td>0.139662</td>\n",
       "      <td>-0.256505</td>\n",
       "      <td>0.041523</td>\n",
       "      <td>1.000000</td>\n",
       "      <td>-0.046114</td>\n",
       "      <td>-0.038594</td>\n",
       "      <td>0.071142</td>\n",
       "      <td>0.200988</td>\n",
       "      <td>-0.200988</td>\n",
       "      <td>-0.046215</td>\n",
       "      <td>-0.058592</td>\n",
       "      <td>0.077359</td>\n",
       "    </tr>\n",
       "    <tr>\n",
       "      <th>Pclass_1</th>\n",
       "      <td>0.285904</td>\n",
       "      <td>-0.054582</td>\n",
       "      <td>-0.017633</td>\n",
       "      <td>0.604888</td>\n",
       "      <td>-0.096810</td>\n",
       "      <td>-0.084700</td>\n",
       "      <td>0.542948</td>\n",
       "      <td>0.315776</td>\n",
       "      <td>-0.012994</td>\n",
       "      <td>-0.046114</td>\n",
       "      <td>1.000000</td>\n",
       "      <td>-0.288585</td>\n",
       "      <td>-0.626738</td>\n",
       "      <td>0.098013</td>\n",
       "      <td>-0.098013</td>\n",
       "      <td>0.296423</td>\n",
       "      <td>-0.155342</td>\n",
       "      <td>-0.161921</td>\n",
       "    </tr>\n",
       "    <tr>\n",
       "      <th>Pclass_2</th>\n",
       "      <td>0.093349</td>\n",
       "      <td>-0.055932</td>\n",
       "      <td>-0.000734</td>\n",
       "      <td>-0.102715</td>\n",
       "      <td>0.084205</td>\n",
       "      <td>0.009903</td>\n",
       "      <td>-0.152820</td>\n",
       "      <td>0.021708</td>\n",
       "      <td>0.034277</td>\n",
       "      <td>-0.038594</td>\n",
       "      <td>-0.288585</td>\n",
       "      <td>1.000000</td>\n",
       "      <td>-0.565210</td>\n",
       "      <td>0.064746</td>\n",
       "      <td>-0.064746</td>\n",
       "      <td>-0.125416</td>\n",
       "      <td>-0.127301</td>\n",
       "      <td>0.189980</td>\n",
       "    </tr>\n",
       "    <tr>\n",
       "      <th>Pclass_3</th>\n",
       "      <td>-0.322308</td>\n",
       "      <td>0.092548</td>\n",
       "      <td>0.015790</td>\n",
       "      <td>-0.437580</td>\n",
       "      <td>0.014881</td>\n",
       "      <td>0.064918</td>\n",
       "      <td>-0.343433</td>\n",
       "      <td>-0.289742</td>\n",
       "      <td>-0.016701</td>\n",
       "      <td>0.071142</td>\n",
       "      <td>-0.626738</td>\n",
       "      <td>-0.565210</td>\n",
       "      <td>1.000000</td>\n",
       "      <td>-0.137143</td>\n",
       "      <td>0.137143</td>\n",
       "      <td>-0.153329</td>\n",
       "      <td>0.237449</td>\n",
       "      <td>-0.015104</td>\n",
       "    </tr>\n",
       "    <tr>\n",
       "      <th>Sex_female</th>\n",
       "      <td>0.543351</td>\n",
       "      <td>0.114631</td>\n",
       "      <td>0.245489</td>\n",
       "      <td>0.143517</td>\n",
       "      <td>0.004042</td>\n",
       "      <td>-0.159934</td>\n",
       "      <td>0.154203</td>\n",
       "      <td>-0.081354</td>\n",
       "      <td>-0.031341</td>\n",
       "      <td>0.200988</td>\n",
       "      <td>0.098013</td>\n",
       "      <td>0.064746</td>\n",
       "      <td>-0.137143</td>\n",
       "      <td>1.000000</td>\n",
       "      <td>-1.000000</td>\n",
       "      <td>0.082853</td>\n",
       "      <td>0.074115</td>\n",
       "      <td>-0.119224</td>\n",
       "    </tr>\n",
       "    <tr>\n",
       "      <th>Sex_male</th>\n",
       "      <td>-0.543351</td>\n",
       "      <td>-0.114631</td>\n",
       "      <td>-0.245489</td>\n",
       "      <td>-0.143517</td>\n",
       "      <td>-0.004042</td>\n",
       "      <td>0.159934</td>\n",
       "      <td>-0.154203</td>\n",
       "      <td>0.081354</td>\n",
       "      <td>0.031341</td>\n",
       "      <td>-0.200988</td>\n",
       "      <td>-0.098013</td>\n",
       "      <td>-0.064746</td>\n",
       "      <td>0.137143</td>\n",
       "      <td>-1.000000</td>\n",
       "      <td>1.000000</td>\n",
       "      <td>-0.082853</td>\n",
       "      <td>-0.074115</td>\n",
       "      <td>0.119224</td>\n",
       "    </tr>\n",
       "    <tr>\n",
       "      <th>Embarked_C</th>\n",
       "      <td>0.168240</td>\n",
       "      <td>-0.059528</td>\n",
       "      <td>-0.011069</td>\n",
       "      <td>0.120044</td>\n",
       "      <td>-0.012119</td>\n",
       "      <td>-0.035225</td>\n",
       "      <td>0.246540</td>\n",
       "      <td>0.023965</td>\n",
       "      <td>0.108996</td>\n",
       "      <td>-0.046215</td>\n",
       "      <td>0.296423</td>\n",
       "      <td>-0.125416</td>\n",
       "      <td>-0.153329</td>\n",
       "      <td>0.082853</td>\n",
       "      <td>-0.082853</td>\n",
       "      <td>1.000000</td>\n",
       "      <td>-0.148258</td>\n",
       "      <td>-0.782742</td>\n",
       "    </tr>\n",
       "    <tr>\n",
       "      <th>Embarked_Q</th>\n",
       "      <td>0.003650</td>\n",
       "      <td>-0.026354</td>\n",
       "      <td>-0.081228</td>\n",
       "      <td>-0.107526</td>\n",
       "      <td>-0.080177</td>\n",
       "      <td>0.010478</td>\n",
       "      <td>-0.096192</td>\n",
       "      <td>-0.029239</td>\n",
       "      <td>-0.138848</td>\n",
       "      <td>-0.058592</td>\n",
       "      <td>-0.155342</td>\n",
       "      <td>-0.127301</td>\n",
       "      <td>0.237449</td>\n",
       "      <td>0.074115</td>\n",
       "      <td>-0.074115</td>\n",
       "      <td>-0.148258</td>\n",
       "      <td>1.000000</td>\n",
       "      <td>-0.499421</td>\n",
       "    </tr>\n",
       "    <tr>\n",
       "      <th>Embarked_S</th>\n",
       "      <td>-0.149683</td>\n",
       "      <td>0.068734</td>\n",
       "      <td>0.060814</td>\n",
       "      <td>-0.037498</td>\n",
       "      <td>0.061072</td>\n",
       "      <td>0.024264</td>\n",
       "      <td>-0.155445</td>\n",
       "      <td>-0.002594</td>\n",
       "      <td>-0.008108</td>\n",
       "      <td>0.077359</td>\n",
       "      <td>-0.161921</td>\n",
       "      <td>0.189980</td>\n",
       "      <td>-0.015104</td>\n",
       "      <td>-0.119224</td>\n",
       "      <td>0.119224</td>\n",
       "      <td>-0.782742</td>\n",
       "      <td>-0.499421</td>\n",
       "      <td>1.000000</td>\n",
       "    </tr>\n",
       "  </tbody>\n",
       "</table>\n",
       "</div>"
      ],
      "text/plain": [
       "            Survived     SibSp     Parch    FCabin     Honor   IsChild  \\\n",
       "Survived    1.000000 -0.035322  0.081629  0.287944 -0.059374  0.085221   \n",
       "SibSp      -0.035322  1.000000  0.414838 -0.031973 -0.128959  0.349559   \n",
       "Parch       0.081629  0.414838  1.000000  0.037621 -0.035228  0.267344   \n",
       "FCabin      0.287944 -0.031973  0.037621  1.000000 -0.006902 -0.007043   \n",
       "Honor      -0.059374 -0.128959 -0.035228 -0.006902  1.000000 -0.336084   \n",
       "IsChild     0.085221  0.349559  0.267344 -0.007043 -0.336084  1.000000   \n",
       "Fare_grade  0.232892  0.097544  0.146110  0.314194 -0.008823 -0.038405   \n",
       "Age_grade  -0.070315 -0.245453 -0.177641  0.176709  0.175579 -0.388802   \n",
       "FTicket    -0.036178  0.049331  0.015628 -0.040996  0.023040 -0.028468   \n",
       "Family      0.016639  0.890712  0.783111 -0.003057 -0.105739  0.372472   \n",
       "Pclass_1    0.285904 -0.054582 -0.017633  0.604888 -0.096810 -0.084700   \n",
       "Pclass_2    0.093349 -0.055932 -0.000734 -0.102715  0.084205  0.009903   \n",
       "Pclass_3   -0.322308  0.092548  0.015790 -0.437580  0.014881  0.064918   \n",
       "Sex_female  0.543351  0.114631  0.245489  0.143517  0.004042 -0.159934   \n",
       "Sex_male   -0.543351 -0.114631 -0.245489 -0.143517 -0.004042  0.159934   \n",
       "Embarked_C  0.168240 -0.059528 -0.011069  0.120044 -0.012119 -0.035225   \n",
       "Embarked_Q  0.003650 -0.026354 -0.081228 -0.107526 -0.080177  0.010478   \n",
       "Embarked_S -0.149683  0.068734  0.060814 -0.037498  0.061072  0.024264   \n",
       "\n",
       "            Fare_grade  Age_grade   FTicket    Family  Pclass_1  Pclass_2  \\\n",
       "Survived      0.232892  -0.070315 -0.036178  0.016639  0.285904  0.093349   \n",
       "SibSp         0.097544  -0.245453  0.049331  0.890712 -0.054582 -0.055932   \n",
       "Parch         0.146110  -0.177641  0.015628  0.783111 -0.017633 -0.000734   \n",
       "FCabin        0.314194   0.176709 -0.040996 -0.003057  0.604888 -0.102715   \n",
       "Honor        -0.008823   0.175579  0.023040 -0.105739 -0.096810  0.084205   \n",
       "IsChild      -0.038405  -0.388802 -0.028468  0.372472 -0.084700  0.009903   \n",
       "Fare_grade    1.000000   0.099532  0.137205  0.139662  0.542948 -0.152820   \n",
       "Age_grade     0.099532   1.000000  0.002071 -0.256505  0.315776  0.021708   \n",
       "FTicket       0.137205   0.002071  1.000000  0.041523 -0.012994  0.034277   \n",
       "Family        0.139662  -0.256505  0.041523  1.000000 -0.046114 -0.038594   \n",
       "Pclass_1      0.542948   0.315776 -0.012994 -0.046114  1.000000 -0.288585   \n",
       "Pclass_2     -0.152820   0.021708  0.034277 -0.038594 -0.288585  1.000000   \n",
       "Pclass_3     -0.343433  -0.289742 -0.016701  0.071142 -0.626738 -0.565210   \n",
       "Sex_female    0.154203  -0.081354 -0.031341  0.200988  0.098013  0.064746   \n",
       "Sex_male     -0.154203   0.081354  0.031341 -0.200988 -0.098013 -0.064746   \n",
       "Embarked_C    0.246540   0.023965  0.108996 -0.046215  0.296423 -0.125416   \n",
       "Embarked_Q   -0.096192  -0.029239 -0.138848 -0.058592 -0.155342 -0.127301   \n",
       "Embarked_S   -0.155445  -0.002594 -0.008108  0.077359 -0.161921  0.189980   \n",
       "\n",
       "            Pclass_3  Sex_female  Sex_male  Embarked_C  Embarked_Q  Embarked_S  \n",
       "Survived   -0.322308    0.543351 -0.543351    0.168240    0.003650   -0.149683  \n",
       "SibSp       0.092548    0.114631 -0.114631   -0.059528   -0.026354    0.068734  \n",
       "Parch       0.015790    0.245489 -0.245489   -0.011069   -0.081228    0.060814  \n",
       "FCabin     -0.437580    0.143517 -0.143517    0.120044   -0.107526   -0.037498  \n",
       "Honor       0.014881    0.004042 -0.004042   -0.012119   -0.080177    0.061072  \n",
       "IsChild     0.064918   -0.159934  0.159934   -0.035225    0.010478    0.024264  \n",
       "Fare_grade -0.343433    0.154203 -0.154203    0.246540   -0.096192   -0.155445  \n",
       "Age_grade  -0.289742   -0.081354  0.081354    0.023965   -0.029239   -0.002594  \n",
       "FTicket    -0.016701   -0.031341  0.031341    0.108996   -0.138848   -0.008108  \n",
       "Family      0.071142    0.200988 -0.200988   -0.046215   -0.058592    0.077359  \n",
       "Pclass_1   -0.626738    0.098013 -0.098013    0.296423   -0.155342   -0.161921  \n",
       "Pclass_2   -0.565210    0.064746 -0.064746   -0.125416   -0.127301    0.189980  \n",
       "Pclass_3    1.000000   -0.137143  0.137143   -0.153329    0.237449   -0.015104  \n",
       "Sex_female -0.137143    1.000000 -1.000000    0.082853    0.074115   -0.119224  \n",
       "Sex_male    0.137143   -1.000000  1.000000   -0.082853   -0.074115    0.119224  \n",
       "Embarked_C -0.153329    0.082853 -0.082853    1.000000   -0.148258   -0.782742  \n",
       "Embarked_Q  0.237449    0.074115 -0.074115   -0.148258    1.000000   -0.499421  \n",
       "Embarked_S -0.015104   -0.119224  0.119224   -0.782742   -0.499421    1.000000  "
      ]
     },
     "execution_count": 119,
     "metadata": {},
     "output_type": "execute_result"
    }
   ],
   "source": [
    "# OneHot Encoding\n",
    "_df = pd.get_dummies(_df)\n",
    "_test = pd.get_dummies(_test)\n",
    "_df.head()\n",
    "\n",
    "_df.corr()"
   ]
  },
  {
   "cell_type": "code",
   "execution_count": 120,
   "metadata": {},
   "outputs": [
    {
     "data": {
      "text/plain": [
       "Index(['SibSp', 'Parch', 'FCabin', 'Honor', 'IsChild', 'Fare_grade',\n",
       "       'Age_grade', 'FTicket', 'Family', 'Pclass_1', 'Pclass_2', 'Pclass_3',\n",
       "       'Sex_female', 'Sex_male', 'Embarked_C', 'Embarked_Q', 'Embarked_S'],\n",
       "      dtype='object')"
      ]
     },
     "execution_count": 120,
     "metadata": {},
     "output_type": "execute_result"
    }
   ],
   "source": [
    "_test.columns"
   ]
  },
  {
   "cell_type": "code",
   "execution_count": 121,
   "metadata": {},
   "outputs": [
    {
     "data": {
      "text/plain": [
       "Index(['Survived', 'SibSp', 'Parch', 'FCabin', 'Honor', 'IsChild',\n",
       "       'Fare_grade', 'Age_grade', 'FTicket', 'Family', 'Pclass_1', 'Pclass_2',\n",
       "       'Pclass_3', 'Sex_female', 'Sex_male', 'Embarked_C', 'Embarked_Q',\n",
       "       'Embarked_S'],\n",
       "      dtype='object')"
      ]
     },
     "execution_count": 121,
     "metadata": {},
     "output_type": "execute_result"
    }
   ],
   "source": [
    "_df.columns"
   ]
  },
  {
   "cell_type": "code",
   "execution_count": 122,
   "metadata": {
    "scrolled": false
   },
   "outputs": [
    {
     "name": "stderr",
     "output_type": "stream",
     "text": [
      "/Users/y.nakamori/.pyenv/versions/anaconda3-5.3.0/lib/python3.6/site-packages/sklearn/model_selection/_split.py:2053: FutureWarning: You should specify a value for 'cv' instead of relying on the default value. The default value will change from 3 to 5 in version 0.22.\n",
      "  warnings.warn(CV_WARNING, FutureWarning)\n"
     ]
    }
   ],
   "source": [
    "# RandomForest にグリッドサーチを適用\n",
    "import sklearn\n",
    "from sklearn.ensemble import RandomForestClassifier\n",
    "from sklearn.model_selection import GridSearchCV\n",
    "\n",
    "parameters = {\n",
    "    \"n_estimators\":[i for i in range(10,100,10)],\n",
    "    \"criterion\":[\"gini\",\"entropy\"],\n",
    "    \"max_depth\":[i for i in range(1,6,1)],\n",
    "     'min_samples_split': [2, 4, 10,12,16],\n",
    "    \"random_state\":[3],\n",
    "}\n",
    "\n",
    "x = _df.drop(columns=[\"Survived\"])\n",
    "y = df[\"Survived\"]\n",
    "\n",
    "model = GridSearchCV(RandomForestClassifier(), parameters)\n",
    "model_fit = model.fit(x, y)\n",
    "predictor = model_fit.best_estimator_"
   ]
  },
  {
   "cell_type": "code",
   "execution_count": 123,
   "metadata": {},
   "outputs": [],
   "source": [
    "# 予測器に通す\n",
    "survivor = predictor.predict(_test)\n",
    "survivor = pd.Series(survivor)\n",
    "\n",
    "# 提出用に体裁を整える\n",
    "_survivor = pd.concat([test.PassengerId, survivor], axis=1)\n",
    "_survivor = _survivor.rename(columns={0: 'Survived'})\n",
    "_survivor.to_csv(\"prediction.csv\", index=False)"
   ]
  },
  {
   "cell_type": "code",
   "execution_count": 124,
   "metadata": {
    "scrolled": true
   },
   "outputs": [
    {
     "name": "stdout",
     "output_type": "stream",
     "text": [
      "SibSp         0.034593\n",
      "Parch         0.012409\n",
      "FCabin        0.054209\n",
      "Honor         0.098892\n",
      "IsChild       0.019729\n",
      "Fare_grade    0.027215\n",
      "Age_grade     0.038002\n",
      "FTicket       0.043400\n",
      "Family        0.049232\n",
      "Pclass_1      0.039055\n",
      "Pclass_2      0.016111\n",
      "Pclass_3      0.070371\n",
      "Sex_female    0.230494\n",
      "Sex_male      0.247293\n",
      "Embarked_C    0.007305\n",
      "Embarked_Q    0.003922\n",
      "Embarked_S    0.007769\n",
      "dtype: float64\n"
     ]
    }
   ],
   "source": [
    "_x = predictor.feature_importances_\n",
    "_y = _test.columns\n",
    "print(pd.Series(_x, _y))"
   ]
  },
  {
   "cell_type": "code",
   "execution_count": 125,
   "metadata": {},
   "outputs": [
    {
     "data": {
      "text/html": [
       "<div>\n",
       "<style scoped>\n",
       "    .dataframe tbody tr th:only-of-type {\n",
       "        vertical-align: middle;\n",
       "    }\n",
       "\n",
       "    .dataframe tbody tr th {\n",
       "        vertical-align: top;\n",
       "    }\n",
       "\n",
       "    .dataframe thead th {\n",
       "        text-align: right;\n",
       "    }\n",
       "</style>\n",
       "<table border=\"1\" class=\"dataframe\">\n",
       "  <thead>\n",
       "    <tr style=\"text-align: right;\">\n",
       "      <th></th>\n",
       "      <th>Survived</th>\n",
       "      <th>SibSp</th>\n",
       "      <th>Parch</th>\n",
       "      <th>FCabin</th>\n",
       "      <th>Honor</th>\n",
       "      <th>IsChild</th>\n",
       "      <th>Fare_grade</th>\n",
       "      <th>Age_grade</th>\n",
       "      <th>FTicket</th>\n",
       "      <th>Family</th>\n",
       "      <th>Pclass_1</th>\n",
       "      <th>Pclass_2</th>\n",
       "      <th>Pclass_3</th>\n",
       "      <th>Sex_female</th>\n",
       "      <th>Sex_male</th>\n",
       "      <th>Embarked_C</th>\n",
       "      <th>Embarked_Q</th>\n",
       "      <th>Embarked_S</th>\n",
       "    </tr>\n",
       "  </thead>\n",
       "  <tbody>\n",
       "    <tr>\n",
       "      <th>0</th>\n",
       "      <td>0</td>\n",
       "      <td>1</td>\n",
       "      <td>0</td>\n",
       "      <td>0</td>\n",
       "      <td>10</td>\n",
       "      <td>False</td>\n",
       "      <td>0</td>\n",
       "      <td>2</td>\n",
       "      <td>9</td>\n",
       "      <td>1</td>\n",
       "      <td>0</td>\n",
       "      <td>0</td>\n",
       "      <td>1</td>\n",
       "      <td>0</td>\n",
       "      <td>1</td>\n",
       "      <td>0</td>\n",
       "      <td>0</td>\n",
       "      <td>1</td>\n",
       "    </tr>\n",
       "    <tr>\n",
       "      <th>1</th>\n",
       "      <td>1</td>\n",
       "      <td>1</td>\n",
       "      <td>0</td>\n",
       "      <td>3</td>\n",
       "      <td>11</td>\n",
       "      <td>False</td>\n",
       "      <td>1</td>\n",
       "      <td>4</td>\n",
       "      <td>13</td>\n",
       "      <td>1</td>\n",
       "      <td>1</td>\n",
       "      <td>0</td>\n",
       "      <td>0</td>\n",
       "      <td>1</td>\n",
       "      <td>0</td>\n",
       "      <td>1</td>\n",
       "      <td>0</td>\n",
       "      <td>0</td>\n",
       "    </tr>\n",
       "    <tr>\n",
       "      <th>2</th>\n",
       "      <td>1</td>\n",
       "      <td>0</td>\n",
       "      <td>0</td>\n",
       "      <td>0</td>\n",
       "      <td>9</td>\n",
       "      <td>False</td>\n",
       "      <td>0</td>\n",
       "      <td>3</td>\n",
       "      <td>14</td>\n",
       "      <td>0</td>\n",
       "      <td>0</td>\n",
       "      <td>0</td>\n",
       "      <td>1</td>\n",
       "      <td>1</td>\n",
       "      <td>0</td>\n",
       "      <td>0</td>\n",
       "      <td>0</td>\n",
       "      <td>1</td>\n",
       "    </tr>\n",
       "    <tr>\n",
       "      <th>3</th>\n",
       "      <td>1</td>\n",
       "      <td>1</td>\n",
       "      <td>0</td>\n",
       "      <td>3</td>\n",
       "      <td>11</td>\n",
       "      <td>False</td>\n",
       "      <td>1</td>\n",
       "      <td>4</td>\n",
       "      <td>0</td>\n",
       "      <td>1</td>\n",
       "      <td>1</td>\n",
       "      <td>0</td>\n",
       "      <td>0</td>\n",
       "      <td>1</td>\n",
       "      <td>0</td>\n",
       "      <td>0</td>\n",
       "      <td>0</td>\n",
       "      <td>1</td>\n",
       "    </tr>\n",
       "    <tr>\n",
       "      <th>4</th>\n",
       "      <td>0</td>\n",
       "      <td>0</td>\n",
       "      <td>0</td>\n",
       "      <td>0</td>\n",
       "      <td>10</td>\n",
       "      <td>False</td>\n",
       "      <td>0</td>\n",
       "      <td>4</td>\n",
       "      <td>2</td>\n",
       "      <td>0</td>\n",
       "      <td>0</td>\n",
       "      <td>0</td>\n",
       "      <td>1</td>\n",
       "      <td>0</td>\n",
       "      <td>1</td>\n",
       "      <td>0</td>\n",
       "      <td>0</td>\n",
       "      <td>1</td>\n",
       "    </tr>\n",
       "  </tbody>\n",
       "</table>\n",
       "</div>"
      ],
      "text/plain": [
       "   Survived  SibSp  Parch  FCabin  Honor  IsChild  Fare_grade  Age_grade  \\\n",
       "0         0      1      0       0     10    False           0          2   \n",
       "1         1      1      0       3     11    False           1          4   \n",
       "2         1      0      0       0      9    False           0          3   \n",
       "3         1      1      0       3     11    False           1          4   \n",
       "4         0      0      0       0     10    False           0          4   \n",
       "\n",
       "   FTicket  Family  Pclass_1  Pclass_2  Pclass_3  Sex_female  Sex_male  \\\n",
       "0        9       1         0         0         1           0         1   \n",
       "1       13       1         1         0         0           1         0   \n",
       "2       14       0         0         0         1           1         0   \n",
       "3        0       1         1         0         0           1         0   \n",
       "4        2       0         0         0         1           0         1   \n",
       "\n",
       "   Embarked_C  Embarked_Q  Embarked_S  \n",
       "0           0           0           1  \n",
       "1           1           0           0  \n",
       "2           0           0           1  \n",
       "3           0           0           1  \n",
       "4           0           0           1  "
      ]
     },
     "execution_count": 125,
     "metadata": {},
     "output_type": "execute_result"
    }
   ],
   "source": [
    "_df.head()"
   ]
  },
  {
   "cell_type": "code",
   "execution_count": 126,
   "metadata": {},
   "outputs": [
    {
     "data": {
      "text/plain": [
       "<matplotlib.axes._subplots.AxesSubplot at 0x1a36466da0>"
      ]
     },
     "execution_count": 126,
     "metadata": {},
     "output_type": "execute_result"
    },
    {
     "data": {
      "image/png": "[encoded data removed]",
      "text/plain": [
       "<Figure size 432x288 with 1 Axes>"
      ]
     },
     "metadata": {
      "needs_background": "light"
     },
     "output_type": "display_data"
    }
   ],
   "source": [
    "sns.pointplot(x=\"IsChild\", data=_df, y=\"Survived\")"
   ]
  },
  {
   "cell_type": "code",
   "execution_count": 127,
   "metadata": {},
   "outputs": [
    {
     "data": {
      "text/plain": [
       "<matplotlib.axes._subplots.AxesSubplot at 0x1a364388d0>"
      ]
     },
     "execution_count": 127,
     "metadata": {},
     "output_type": "execute_result"
    },
    {
     "data": {
      "image/png": "[encoded data removed]",
      "text/plain": [
       "<Figure size 432x288 with 1 Axes>"
      ]
     },
     "metadata": {
      "needs_background": "light"
     },
     "output_type": "display_data"
    }
   ],
   "source": [
    "sns.pointplot(x=\"Fare_grade\", data=_df, y=\"Survived\", hue=\"Sex_female\")"
   ]
  },
  {
   "cell_type": "code",
   "execution_count": 128,
   "metadata": {},
   "outputs": [
    {
     "data": {
      "text/plain": [
       "<matplotlib.axes._subplots.AxesSubplot at 0x1a35f4a9b0>"
      ]
     },
     "execution_count": 128,
     "metadata": {},
     "output_type": "execute_result"
    },
    {
     "data": {
      "image/png": "[encoded data removed]",
      "text/plain": [
       "<Figure size 432x288 with 1 Axes>"
      ]
     },
     "metadata": {
      "needs_background": "light"
     },
     "output_type": "display_data"
    }
   ],
   "source": [
    "sns.pointplot(x=\"Age_grade\", y=\"Survived\", data=_df)"
   ]
  },
  {
   "cell_type": "code",
   "execution_count": 129,
   "metadata": {},
   "outputs": [
    {
     "data": {
      "text/plain": [
       "<matplotlib.axes._subplots.AxesSubplot at 0x1a36b2db00>"
      ]
     },
     "execution_count": 129,
     "metadata": {},
     "output_type": "execute_result"
    },
    {
     "data": {
      "image/png": "[encoded data removed]",
      "text/plain": [
       "<Figure size 432x288 with 1 Axes>"
      ]
     },
     "metadata": {
      "needs_background": "light"
     },
     "output_type": "display_data"
    }
   ],
   "source": [
    "sns.pointplot(x=\"Embarked\", y=\"Survived\", hue=\"Sex\", data=df)"
   ]
  },
  {
   "cell_type": "code",
   "execution_count": 130,
   "metadata": {},
   "outputs": [
    {
     "data": {
      "text/plain": [
       "<matplotlib.axes._subplots.AxesSubplot at 0x1a3639b860>"
      ]
     },
     "execution_count": 130,
     "metadata": {},
     "output_type": "execute_result"
    },
    {
     "data": {
      "image/png": "[encoded data removed]",
      "text/plain": [
       "<Figure size 432x288 with 1 Axes>"
      ]
     },
     "metadata": {
      "needs_background": "light"
     },
     "output_type": "display_data"
    }
   ],
   "source": [
    "sns.pointplot(x=\"Honor\", y=\"Survived\", data=_df)"
   ]
  },
  {
   "cell_type": "code",
   "execution_count": 131,
   "metadata": {
    "scrolled": false
   },
   "outputs": [
    {
     "data": {
      "image/png": "[encoded data removed]",
      "text/plain": [
       "<Figure size 432x216 with 7 Axes>"
      ]
     },
     "metadata": {
      "needs_background": "light"
     },
     "output_type": "display_data"
    }
   ],
   "source": [
    "grid = sns.FacetGrid(\n",
    "    _df,\n",
    "    col=\"Fare_grade\",\n",
    "    hue=\"Fare_grade\",\n",
    "    palette=\"tab20c\",\n",
    "    col_wrap=4,\n",
    "    height=1.5)\n",
    "grid.map(plt.axhline, y=0, ls=\":\", c=\".5\")\n",
    "grid.map(plt.plot, \"Age_grade\", \"Survived\", marker=\"o\")\n",
    "grid.set(xticks=np.arange(5), yticks=[-3, 3],\n",
    "        xlim=(-.5, 4.5), ylim=(-3.5, 3.5))\n",
    "grid.fig.tight_layout(w_pad=1)"
   ]
  }
 ],
 "metadata": {
  "kernelspec": {
   "display_name": "Python 3",
   "language": "python",
   "name": "python3"
  },
  "language_info": {
   "codemirror_mode": {
    "name": "ipython",
    "version": 3
   },
   "file_extension": ".py",
   "mimetype": "text/x-python",
   "name": "python",
   "nbconvert_exporter": "python",
   "pygments_lexer": "ipython3",
   "version": "3.6.8"
  }
 },
 "nbformat": 4,
 "nbformat_minor": 2
}
